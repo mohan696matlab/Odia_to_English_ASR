{
 "cells": [
  {
   "cell_type": "code",
   "execution_count": 1,
   "id": "8696769f",
   "metadata": {},
   "outputs": [
    {
     "name": "stderr",
     "output_type": "stream",
     "text": [
      "[NeMo W 2025-05-28 12:22:54 nemo_logging:349] /home/mohan.dash/miniconda3/envs/temo/lib/python3.10/site-packages/megatron/core/tensor_parallel/layers.py:220: FutureWarning: `torch.cuda.amp.custom_fwd(args...)` is deprecated. Please use `torch.amp.custom_fwd(args..., device_type='cuda')` instead.\n",
      "      def forward(ctx, input, weight, bias, gradient_accumulation_fusion,\n",
      "    \n",
      "[NeMo W 2025-05-28 12:22:54 nemo_logging:349] /home/mohan.dash/miniconda3/envs/temo/lib/python3.10/site-packages/megatron/core/tensor_parallel/layers.py:250: FutureWarning: `torch.cuda.amp.custom_bwd(args...)` is deprecated. Please use `torch.amp.custom_bwd(args..., device_type='cuda')` instead.\n",
      "      def backward(ctx, grad_output):\n",
      "    \n"
     ]
    },
    {
     "name": "stdout",
     "output_type": "stream",
     "text": [
      "[NeMo I 2025-05-28 12:23:02 mixins:198] _setup_tokenizer: detected an aggregate tokenizer\n",
      "[NeMo I 2025-05-28 12:23:02 mixins:335] Tokenizer SentencePieceTokenizer initialized with 256 tokens\n",
      "[NeMo I 2025-05-28 12:23:02 mixins:335] Tokenizer SentencePieceTokenizer initialized with 256 tokens\n",
      "[NeMo I 2025-05-28 12:23:02 mixins:335] Tokenizer SentencePieceTokenizer initialized with 256 tokens\n",
      "[NeMo I 2025-05-28 12:23:02 mixins:335] Tokenizer SentencePieceTokenizer initialized with 256 tokens\n",
      "[NeMo I 2025-05-28 12:23:02 mixins:335] Tokenizer SentencePieceTokenizer initialized with 256 tokens\n",
      "[NeMo I 2025-05-28 12:23:02 mixins:335] Tokenizer SentencePieceTokenizer initialized with 256 tokens\n",
      "[NeMo I 2025-05-28 12:23:02 mixins:335] Tokenizer SentencePieceTokenizer initialized with 256 tokens\n",
      "[NeMo I 2025-05-28 12:23:02 mixins:335] Tokenizer SentencePieceTokenizer initialized with 256 tokens\n",
      "[NeMo I 2025-05-28 12:23:02 mixins:335] Tokenizer SentencePieceTokenizer initialized with 256 tokens\n",
      "[NeMo I 2025-05-28 12:23:02 mixins:335] Tokenizer SentencePieceTokenizer initialized with 256 tokens\n",
      "[NeMo I 2025-05-28 12:23:02 mixins:335] Tokenizer SentencePieceTokenizer initialized with 256 tokens\n",
      "[NeMo I 2025-05-28 12:23:02 mixins:335] Tokenizer SentencePieceTokenizer initialized with 256 tokens\n",
      "[NeMo I 2025-05-28 12:23:02 mixins:335] Tokenizer SentencePieceTokenizer initialized with 256 tokens\n",
      "[NeMo I 2025-05-28 12:23:02 mixins:335] Tokenizer SentencePieceTokenizer initialized with 256 tokens\n",
      "[NeMo I 2025-05-28 12:23:02 mixins:335] Tokenizer SentencePieceTokenizer initialized with 256 tokens\n",
      "[NeMo I 2025-05-28 12:23:02 mixins:335] Tokenizer SentencePieceTokenizer initialized with 256 tokens\n",
      "[NeMo I 2025-05-28 12:23:02 mixins:335] Tokenizer SentencePieceTokenizer initialized with 256 tokens\n",
      "[NeMo I 2025-05-28 12:23:02 mixins:335] Tokenizer SentencePieceTokenizer initialized with 256 tokens\n",
      "[NeMo I 2025-05-28 12:23:02 mixins:335] Tokenizer SentencePieceTokenizer initialized with 256 tokens\n",
      "[NeMo I 2025-05-28 12:23:02 mixins:335] Tokenizer SentencePieceTokenizer initialized with 256 tokens\n",
      "[NeMo I 2025-05-28 12:23:02 mixins:335] Tokenizer SentencePieceTokenizer initialized with 256 tokens\n",
      "[NeMo I 2025-05-28 12:23:02 mixins:335] Tokenizer SentencePieceTokenizer initialized with 256 tokens\n",
      "[NeMo I 2025-05-28 12:23:02 multilingual_tokenizer:61] Aggregate vocab size: 5632\n"
     ]
    },
    {
     "name": "stderr",
     "output_type": "stream",
     "text": [
      "[NeMo W 2025-05-28 12:23:08 modelPT:165] If you intend to do training or fine-tuning, please call the ModelPT.setup_training_data() method and provide a valid configuration file to setup the train data loader.\n",
      "    Train config : \n",
      "    manifest_filepath:\n",
      "    - /nlsasfs/home/ai4bharat/ai4bharat-pr/speechteam/indicasr_v3/manifests/nemo/vistaar_v3/train/train_odia.json\n",
      "    sample_rate: 16000\n",
      "    batch_size: 8\n",
      "    shuffle: false\n",
      "    num_workers: 16\n",
      "    pin_memory: true\n",
      "    max_duration: 30.0\n",
      "    min_duration: 0.2\n",
      "    is_tarred: false\n",
      "    tarred_audio_filepaths: null\n",
      "    shuffle_n: 2048\n",
      "    bucketing_strategy: synced_randomized\n",
      "    bucketing_batch_size: null\n",
      "    is_concat: true\n",
      "    concat_sampling_technique: temperature\n",
      "    concat_sampling_temperature: 1.5\n",
      "    return_language_id: true\n",
      "    \n",
      "[NeMo W 2025-05-28 12:23:08 modelPT:172] If you intend to do validation, please call the ModelPT.setup_validation_data() or ModelPT.setup_multiple_validation_data() method and provide a valid configuration file to setup the validation data loader(s). \n",
      "    Validation config : \n",
      "    manifest_filepath:\n",
      "    - /nlsasfs/home/ai4bharat/ai4bharat-pr/speechteam/indicasr_v3/manifests/nemo/vistaar_v3/valid_datasetwise/valid_odia_indicvoices.json\n",
      "    sample_rate: 16000\n",
      "    batch_size: 16\n",
      "    shuffle: false\n",
      "    use_start_end_token: false\n",
      "    num_workers: 8\n",
      "    return_language_id: true\n",
      "    pin_memory: true\n",
      "    \n",
      "[NeMo W 2025-05-28 12:23:08 modelPT:178] Please call the ModelPT.setup_test_data() or ModelPT.setup_multiple_test_data() method and provide a valid configuration file to setup the test data loader(s).\n",
      "    Test config : \n",
      "    manifest_filepath: null\n",
      "    sample_rate: 16000\n",
      "    batch_size: 16\n",
      "    shuffle: false\n",
      "    use_start_end_token: false\n",
      "    num_workers: 8\n",
      "    pin_memory: true\n",
      "    \n"
     ]
    },
    {
     "name": "stdout",
     "output_type": "stream",
     "text": [
      "[NeMo I 2025-05-28 12:23:08 features:289] PADDING: 0\n"
     ]
    },
    {
     "name": "stderr",
     "output_type": "stream",
     "text": [
      "[NeMo W 2025-05-28 12:23:09 nemo_logging:349] /home/mohan.dash/.local/lib/python3.10/site-packages/torch/nn/modules/rnn.py:123: UserWarning: dropout option adds dropout after all but last recurrent layer, so non-zero dropout expects num_layers greater than 1, but got dropout=0.2 and num_layers=1\n",
      "      warnings.warn(\n",
      "    \n"
     ]
    },
    {
     "name": "stdout",
     "output_type": "stream",
     "text": [
      "[NeMo I 2025-05-28 12:23:10 rnnt:1667] Vocab size for each language: 256\n",
      "[NeMo I 2025-05-28 12:23:10 rnnt_models:220] Using RNNT Loss : warprnnt_numba\n",
      "    Loss warprnnt_numba_kwargs: {'fastemit_lambda': 0.0, 'clamp': -1.0}\n",
      "[NeMo I 2025-05-28 12:23:10 rnnt_models:220] Using RNNT Loss : warprnnt_numba\n",
      "    Loss warprnnt_numba_kwargs: {'fastemit_lambda': 0.0, 'clamp': -1.0}\n",
      "[NeMo I 2025-05-28 12:23:11 rnnt_models:220] Using RNNT Loss : warprnnt_numba\n",
      "    Loss warprnnt_numba_kwargs: {'fastemit_lambda': 0.0, 'clamp': -1.0}\n",
      "[NeMo I 2025-05-28 12:23:11 hybrid_rnnt_ctc_bpe_models:105] Creating masks for multi-softmax layer.\n",
      "[NeMo I 2025-05-28 12:23:11 rnnt_models:220] Using RNNT Loss : warprnnt_numba\n",
      "    Loss warprnnt_numba_kwargs: {'fastemit_lambda': 0.0, 'clamp': -1.0}\n",
      "[NeMo I 2025-05-28 12:23:12 save_restore_connector:263] Model EncDecHybridRNNTCTCBPEModel was successfully restored from /home/mohan.dash/.cache/huggingface/hub/models--ai4bharat--indicconformer_stt_or_hybrid_rnnt_large/snapshots/79cf9832955bcda272326930f1b4119bf4e98812/indicconformer_stt_or_hybrid_rnnt_large.nemo.\n"
     ]
    }
   ],
   "source": [
    "import torch\n",
    "import nemo.collections.asr as nemo_asr\n",
    "import gc\n",
    "import torchaudio\n",
    "import os\n",
    "import matplotlib.pyplot as plt\n",
    "\n",
    "model = nemo_asr.models.ASRModel.from_pretrained(\"ai4bharat/indicconformer_stt_or_hybrid_rnnt_large\")\n",
    "\n",
    "device = torch.device(\"cuda\" if torch.cuda.is_available() else \"cpu\")\n",
    "model.freeze() # inference mode\n",
    "model = model.to(device) # transfer model to device\n"
   ]
  },
  {
   "cell_type": "markdown",
   "id": "9e43626d",
   "metadata": {},
   "source": [
    "# Translation"
   ]
  },
  {
   "cell_type": "code",
   "execution_count": 2,
   "id": "563074ae",
   "metadata": {},
   "outputs": [],
   "source": [
    "from transformers import AutoTokenizer, AutoModelForSeq2SeqLM,BitsAndBytesConfig\n",
    "tokenizer = AutoTokenizer.from_pretrained(\"facebook/nllb-200-distilled-600M\", src_lang=\"ory_Orya\")\n",
    "odia2eng_model = AutoModelForSeq2SeqLM.from_pretrained(\n",
    "    \"facebook/nllb-200-distilled-600M\",\n",
    "    # quantization_config=bnb_config,\n",
    "    torch_dtype=torch.float32,\n",
    "    device_map=device  # Will automatically place on GPU if available\n",
    ")"
   ]
  },
  {
   "cell_type": "code",
   "execution_count": 3,
   "id": "8450d1eb",
   "metadata": {},
   "outputs": [],
   "source": [
    "\n",
    "def translate_to_english(odia_text):\n",
    "    # Tokenize input\n",
    "    inputs = tokenizer(odia_text, return_tensors=\"pt\").to(model.device)\n",
    "\n",
    "    # Generate translation in English\n",
    "    translated_tokens = odia2eng_model.generate(\n",
    "        **inputs, \n",
    "        forced_bos_token_id=tokenizer.convert_tokens_to_ids(\"eng_Latn\"), \n",
    "        max_length=30\n",
    "    )\n",
    "\n",
    "    # Decode the output\n",
    "    translation = tokenizer.batch_decode(translated_tokens, skip_special_tokens=True)[0]\n",
    "    return translation"
   ]
  },
  {
   "cell_type": "code",
   "execution_count": 4,
   "id": "b3896110",
   "metadata": {},
   "outputs": [],
   "source": [
    "def print_gpu_utilization():\n",
    "    allocated = torch.cuda.memory_allocated() / (1024 ** 2)\n",
    "    reserved = torch.cuda.memory_reserved() / (1024 ** 2)\n",
    "    print(f\"GPU Memory Usage>>>> Allocated: {allocated:.2f} MB |||||  Reserved:  {reserved:.2f} MB:\")\n",
    "\n",
    "def flush():\n",
    "    torch.cuda.empty_cache()\n",
    "    gc.collect()\n",
    "    torch.cuda.empty_cache()\n",
    "    gc.collect()"
   ]
  },
  {
   "cell_type": "code",
   "execution_count": 5,
   "id": "31d2a767",
   "metadata": {},
   "outputs": [
    {
     "name": "stdout",
     "output_type": "stream",
     "text": [
      "GPU Memory Usage>>>> Allocated: 2870.56 MB |||||  Reserved:  5874.00 MB:\n"
     ]
    }
   ],
   "source": [
    "print_gpu_utilization()"
   ]
  },
  {
   "cell_type": "markdown",
   "id": "ade800b9",
   "metadata": {},
   "source": [
    "# Convert into 16kHz and Monoclannel Audio"
   ]
  },
  {
   "cell_type": "code",
   "execution_count": 14,
   "id": "6d4dc286",
   "metadata": {},
   "outputs": [
    {
     "name": "stdout",
     "output_type": "stream",
     "text": [
      "ffmpeg version 4.4.2-0ubuntu0.22.04.1 Copyright (c) 2000-2021 the FFmpeg developers\n",
      "  built with gcc 11 (Ubuntu 11.2.0-19ubuntu1)\n",
      "  configuration: --prefix=/usr --extra-version=0ubuntu0.22.04.1 --toolchain=hardened --libdir=/usr/lib/x86_64-linux-gnu --incdir=/usr/include/x86_64-linux-gnu --arch=amd64 --enable-gpl --disable-stripping --enable-gnutls --enable-ladspa --enable-libaom --enable-libass --enable-libbluray --enable-libbs2b --enable-libcaca --enable-libcdio --enable-libcodec2 --enable-libdav1d --enable-libflite --enable-libfontconfig --enable-libfreetype --enable-libfribidi --enable-libgme --enable-libgsm --enable-libjack --enable-libmp3lame --enable-libmysofa --enable-libopenjpeg --enable-libopenmpt --enable-libopus --enable-libpulse --enable-librabbitmq --enable-librubberband --enable-libshine --enable-libsnappy --enable-libsoxr --enable-libspeex --enable-libsrt --enable-libssh --enable-libtheora --enable-libtwolame --enable-libvidstab --enable-libvorbis --enable-libvpx --enable-libwebp --enable-libx265 --enable-libxml2 --enable-libxvid --enable-libzimg --enable-libzmq --enable-libzvbi --enable-lv2 --enable-omx --enable-openal --enable-opencl --enable-opengl --enable-sdl2 --enable-pocketsphinx --enable-librsvg --enable-libmfx --enable-libdc1394 --enable-libdrm --enable-libiec61883 --enable-chromaprint --enable-frei0r --enable-libx264 --enable-shared\n",
      "  libavutil      56. 70.100 / 56. 70.100\n",
      "  libavcodec     58.134.100 / 58.134.100\n",
      "  libavformat    58. 76.100 / 58. 76.100\n",
      "  libavdevice    58. 13.100 / 58. 13.100\n",
      "  libavfilter     7.110.100 /  7.110.100\n",
      "  libswscale      5.  9.100 /  5.  9.100\n",
      "  libswresample   3.  9.100 /  3.  9.100\n",
      "  libpostproc    55.  9.100 / 55.  9.100\n",
      "\u001b[0;33mGuessed Channel Layout for Input Stream #0.0 : stereo\n",
      "\u001b[0mInput #0, wav, from 'long_odia_audio.wav':\n",
      "  Metadata:\n",
      "    artist          : Odia All Tech\n",
      "    comment         : https://www.youtube.com/watch?v=4J4dcQl5aBk\n",
      "    date            : 20250527\n",
      "    title           : Today's Odia News/28 May 2025/Odisha news/subhadra yojana in odisha news/odisha news today\n",
      "    encoder         : Lavf58.76.100\n",
      "  Duration: 00:12:04.69, bitrate: 1411 kb/s\n",
      "  Stream #0:0: Audio: pcm_s16le ([1][0][0][0] / 0x0001), 44100 Hz, stereo, s16, 1411 kb/s\n",
      "Stream mapping:\n",
      "  Stream #0:0 -> #0:0 (pcm_s16le (native) -> pcm_s16le (native))\n",
      "Press [q] to stop, [?] for help\n",
      "Output #0, wav, to 'infer_long_odia_audio.wav':\n",
      "  Metadata:\n",
      "    IART            : Odia All Tech\n",
      "    ICMT            : https://www.youtube.com/watch?v=4J4dcQl5aBk\n",
      "    ICRD            : 20250527\n",
      "    INAM            : Today's Odia News/28 May 2025/Odisha news/subhadra yojana in odisha news/odisha news today\n",
      "    ISFT            : Lavf58.76.100\n",
      "  Stream #0:0: Audio: pcm_s16le ([1][0][0][0] / 0x0001), 16000 Hz, mono, s16, 256 kb/s\n",
      "    Metadata:\n",
      "      encoder         : Lavc58.134.100 pcm_s16le\n",
      "size=   22647kB time=00:12:04.69 bitrate= 256.0kbits/s speed=1.59e+03x    \n",
      "video:0kB audio:22647kB subtitle:0kB other streams:0kB global headers:0kB muxing overhead: 0.001164%\n"
     ]
    }
   ],
   "source": [
    "!ffmpeg -i long_odia_audio.wav -ac 1 -ar 16000 infer_long_odia_audio.wav"
   ]
  },
  {
   "cell_type": "code",
   "execution_count": 3,
   "id": "3cf17865",
   "metadata": {},
   "outputs": [
    {
     "name": "stderr",
     "output_type": "stream",
     "text": [
      "Transcribing:   0%|          | 0/1 [00:00<?, ?it/s][NeMo W 2025-05-28 09:54:52 nemo_logging:349] /home/mohan.dash/t2s/NeMo/nemo/collections/asr/parts/preprocessing/features.py:417: FutureWarning: `torch.cuda.amp.autocast(args...)` is deprecated. Please use `torch.amp.autocast('cuda', args...)` instead.\n",
      "      with torch.cuda.amp.autocast(enabled=False):\n",
      "    \n",
      "Transcribing: 100%|██████████| 1/1 [00:00<00:00,  2.43it/s]"
     ]
    },
    {
     "name": "stdout",
     "output_type": "stream",
     "text": [
      "[' ମୁଁ ଗୋଟିଏ ଥର ମୁଁ ଛିଡ଼ା ହୋଇଥିଲି ଏ ଖର ବେଳ ରାତି ବାରଟା ହୋଇଛି ମୋତେ ଜୋରରେ ପଇସା ଲାଗିଲା ଲାଇନ କଟିଯାଇଛି ଏ ଖରା ଦିନେ ହିଁ ଲାଇନ କାଟିବେ ଲାଇନବାାଲାଙ୍କର ଅଲଗା କେଉଁଠି ଲାଇନ କାଟିବେନି ସେ ଖରା ଦିନେ ହିଁ ଲାଇନ କାଟିବେ ଏମିତି ଗୋଟିଏ ଥର ଲାଇନ କଟିଦେଇଛନ୍ତି ରାତି ବାରଟା ହୋଇଛି ମୋତେ ଜୋରରେ ପରିସା ଲାଗିଲା ମୁଁ ଆସିକି ବାହାରେ ପରିସା କରୁଛି ସେମ ଟାଇମରେେ ମୁଁ ବୋଉକୁ ବି ପରିସା ଲାଗିଲା ସେ ବାହାରକୁ ପଳେଇଯାଇଛି ସଟ ଦେଖି ହ ତୋ ବୁତୋୁତୋୁ କହିଲ ବୋଉ ମୁଁ ବଢିକିଆଝ ଗଡ଼ ତତଲା ପେଜ ଢାଳକି ଘୋରା ହୋଇଛା ମୁଁ ଆଉ ଦେଖିକି ତେ ଭୁତ ହୋଇକି ଡରିବାକୁ ଚାଉୁନି ମାନେ ଏଇଭଳିଆେ ନିଜ ବୋଉ ବି ଦେଖିପାରୁନି ଅନ୍ଧାର ହେଲେ']\n",
      "GPU Memory Used: 1601.81 MB\n",
      "GPU Memory Total: 24564.00 MB\n",
      "GPU Utilization: 2%\n"
     ]
    },
    {
     "name": "stderr",
     "output_type": "stream",
     "text": [
      "\n"
     ]
    }
   ],
   "source": [
    "model.cur_decoder = \"ctc\" # \"rnnt\"\n",
    "ctc_text = model.transcribe(['output_audio.wav'], batch_size=1,logprobs=False, language_id='or')[0]\n",
    "print(ctc_text)\n",
    "print_gpu_utilization()"
   ]
  },
  {
   "cell_type": "code",
   "execution_count": null,
   "id": "3b5d395f",
   "metadata": {},
   "outputs": [],
   "source": []
  },
  {
   "cell_type": "markdown",
   "id": "774a95f2",
   "metadata": {},
   "source": [
    "# Long Audio"
   ]
  },
  {
   "cell_type": "code",
   "execution_count": 6,
   "id": "f7343b74",
   "metadata": {},
   "outputs": [],
   "source": [
    "audio_path='infer_long_odia_audio.wav'\n",
    "sample_rate = 16000\n",
    "waveform, sr = torchaudio.load(audio_path)\n",
    "assert sr == sample_rate, f\"Sample rate must be {sample_rate}, got {sr}\""
   ]
  },
  {
   "cell_type": "code",
   "execution_count": 7,
   "id": "e61bf8d4",
   "metadata": {},
   "outputs": [],
   "source": [
    "chunk_duration_sec=10\n",
    "overlap_sec=0\n",
    "\n",
    "total_samples = waveform.shape[1]\n",
    "chunk_samples = int(chunk_duration_sec * sample_rate)\n",
    "overlap_samples = int(overlap_sec * sample_rate)"
   ]
  },
  {
   "cell_type": "code",
   "execution_count": 8,
   "id": "d15d72ee",
   "metadata": {},
   "outputs": [
    {
     "data": {
      "text/plain": [
       "(11595117, 160000, 0)"
      ]
     },
     "execution_count": 8,
     "metadata": {},
     "output_type": "execute_result"
    }
   ],
   "source": [
    "total_samples,chunk_samples,overlap_samples"
   ]
  },
  {
   "cell_type": "code",
   "execution_count": null,
   "id": "28d657ba",
   "metadata": {},
   "outputs": [
    {
     "data": {
      "application/vnd.jupyter.widget-view+json": {
       "model_id": "c3bacc69aeef47aa88034ea2c033ec7c",
       "version_major": 2,
       "version_minor": 0
      },
      "text/plain": [
       "  0%|          | 0/73 [00:00<?, ?it/s]"
      ]
     },
     "metadata": {},
     "output_type": "display_data"
    }
   ],
   "source": [
    "from tqdm.auto import tqdm\n",
    "import shutil\n",
    "\n",
    "os.makedirs('temp_audio',exist_ok=True)\n",
    "\n",
    "starts = list(range(0, total_samples, chunk_samples - overlap_samples))\n",
    "\n",
    "full_transcription=[]\n",
    "english_translation=[]\n",
    "\n",
    "for idx,start in tqdm(enumerate(starts),total=len(starts)):\n",
    "    chunk = waveform[:, start:start + chunk_samples]\n",
    "    torchaudio.save(f'temp_audio/{idx}.wav', chunk, sample_rate)\n",
    "    rnnt_text = model.transcribe([f'temp_audio/{idx}.wav'], batch_size=1, language_id='or',verbose=False )[0][0]\n",
    "    english_translation.append(translate_to_english(rnnt_text))\n",
    "    full_transcription.append(rnnt_text)\n",
    "    \n",
    "shutil.rmtree('temp_audio')"
   ]
  },
  {
   "cell_type": "code",
   "execution_count": 12,
   "id": "47ea1990",
   "metadata": {},
   "outputs": [
    {
     "data": {
      "text/plain": [
       "[' ନମସ୍କାର ଆଜି ହେଉଛି ମେ ଅଠାଇଶି ତାରିଖ ବୁଧବାର ଆପଣମାନଙ୍କ ପାଇଁ ନେଇକି ଆସିଛି ଆଜି ଦିନର କେତୋଟି ଗୁରୁତ୍ୱପୂର୍ଣ୍ଣ ଖବର ସେଥିପାଇଁ ଭିଡିଓକୁ ଶେଷ ପର୍ଯ୍ୟନ୍ତ ଦେଖନ୍ତୁ ଏବଂ ଆପଣଙ୍କ ଭଲପାଇବା ସ୍ୱରୂପ',\n",
       " ' ଗୋଟେ ଗୋଟେ ଲିକ କରିଦିଅନ୍ତୁ ଏବଂ ଚନେଲ୍ କୁ ଯଦି ନୂଆ ଆସିଛନ୍ତି ତାହେଲେ ଚନେଲ କୁ ସୁବ୍ସ୍କ୍ରିବ କରି ପାଖରେ ଆସୁଥିବା ବେଲଇଟନ କୁ କ୍ଲିକ କରି ରଖନ୍ତୁ ଚାଲନ୍ତୁ ଆଜି ଦିନର ଗୁରୁତ୍୍ୱପୂର୍ଣ୍ଣ ଖବର ଉପରେ ନଜର ପକେଇବା ପ୍ରଥମ',\n",
       " ' ଖବର ଆବାସ ଯୋଜନାକୁ ନେଇ ଆସିଲା ବଡ଼ ଖବର ମେ ଏକତିରିଶି ତାରିଖ ହେଉଛି ପ୍ରଧାନମନ୍ତ୍ରୀ ଆବାସ ଯୋଜନାରେ ଆବେଦନ କରିବାର ଶେଷ ତାରିଖ ତୁରନ୍ତ କରନ୍ତୁ ଆବେଦନ ଏନେଇ ପଞ୍ଚାୟତିରାଜ ମନ୍ତ୍ରୀ ରବୀନ',\n",
       " ' ରବ ନାରାୟଣ ନାୟକ ସୂଚନା ଦେଇଛନ୍ତି ବର୍ତ୍ତମାନ ସୁଦ୍ଧା ଛତିଶି ଲକ୍ଷ ଏକାଅଶୀ ହଜାର ତାଲିକା ପହଞ୍ଚିଛି ଯେଉଁମାନେ ପଞ୍ଜୀକରଣ କରିନାହାନ୍ତି ତୁରନ୍ତ କର ବୋଲି ପଞ୍ଚାୟତିରାଜ ମନ୍ତ୍ରୀ ରବିିନାରାୟଣ ନାୟକ କହିଛନ୍ତି',\n",
       " ' ତେବେ ମାସେ କି ଦୁଇ ମାସ ଭିତରେ ହିତାଧିକାରୀଙ୍କ ଚୟନ ସରିବ କେନ୍ଦ୍ର ସରକାରଙ୍କ ଦ୍ୱାରା ଲଞ୍ଚ କରାଯାଇଥିବା ମୋବାଇଲ ଆପ୍ ଆବାସ ପ୍ଲସ ଦୁଇ ହଜାର ଚବିଶି ଏହି ଆପ୍ ବ୍ୟବହାର କରି ଆପଣ ଏବେ ପ୍ରଧାନମନ୍ତ୍ରୀ',\n",
       " ' ଆବାସ ଯୋଜନା ଅଧୀନରେ ଆପଣଙ୍କ ଘର ପାଇଁ ସହଜରେ ଆବେଦନ କରିପାରିବେ ପ୍ରଧାନମନ୍ତ୍ରୀ ଆବାସ ଯୋଜନାରେ ମେ ଏକତିରିଶ ତାରିଖ ପର୍ଯ୍ୟନ୍ତ ଆବେଦନ କରିପାରିବେ ତା ପରେ ଆବେଦନ କଲେ ଗ୍ରହଣ କରାଯିବ ନାହିଁ',\n",
       " ' ତେଣୁ ଆପଣ ଯଥାଶୀଘ୍ର ଆବେଦନ କରନ୍ତୁ ବୋଲି ମନ୍ତ୍ରୀ ସୂଚନା ଦେଇଛନ୍ତି ଏଥିସହିତ ସେ ଆହୁରି ମଧ୍ୟ କହିଛନ୍ତି ମୌସୁମୀ ପରେ ମିଳିବ ଅନ୍ତୋଦୟ ଘର ସରକାରଙ୍କର ଘର ନେଇ ଯେତିକି ଯୋଜନା ରହିଛି',\n",
       " ' ଯଦି ସେସବୁ ଯୋଜନାରୁ ଆପଣମାନେ ବାଦ୍ ପଡିଥିବେ ତାହେଲେ ଆପଣଙ୍କୁ ମିଳିବ ଅନ୍ତୋଦୟ ଯୋଜନାରେ ଘର ଏନେଇ ମଧ୍ୟ ପଞ୍ଚାୟତିରାଜ ମନ୍ତ୍ରୀ ରବିିନାରାୟଣ ନାୟକ ସୂଚନା ଦେଇଛନ୍ତି ପ୍ରଥମ ପର୍ଯ୍ୟାୟରେ ପ୍ରାୟ ଷାଠି',\n",
       " ' ଷାଠିଏ ହଜାର ଘର ଦିଆଯାଇଛି ଏବେ ପୁଣି ଏକ ଲକ୍ଷ ଘର ଦିଆଯିବ ବୋଲି ଖବର ମିଳିଛି ପରବର୍ତ୍ତୀ ଖବର ବଙ୍ଗୋପସାଗରରେ ସୃଷ୍ଟି ହେଲା ଲଘୁଚାପ ଏକତିରିଶି ପର୍ଯ୍ୟନ୍ତ ଅତି ପ୍ରବଳ ବର୍ଷା',\n",
       " ' ଆଗକୁ ଆସୁଛି ବଡ଼ ବର୍ଷା ଜିଲ୍ଲାପାଳମାନଙ୍କୁ ଚିଠି ଲେଖିଲେ ସ୍ୱତନ୍ତ୍ର ରିଲିଫ କମିଶନର ରାଜ୍ୟରେ ବର୍ଷା ସତର୍କତା ନେଇ ସବୁ ଜିଲ୍ଲାପାଳଙ୍କୁ ଚିଠି ଲେଖିଛନ୍ତି ଏସଆରସି ଦେଓରଞ୍ଜନ କୁମାର ସିଂହ',\n",
       " ' ସମ୍ଭାବ୍ୟ ବର୍ଷା ପାଇଁ ପ୍ରସ୍ତୁତ ଓ ସତର୍କ ରହିବାକୁ ଏସଆରସି ନିର୍ଦ୍ଦେଶ ଦେଇଛନ୍ତି ବଙ୍ଗୋପସାଗରରେ ସୃଷ୍ଟି ଲଘୁଚାପ ନେଇ ସତର୍କ କରାଇଛନ୍ତି ବଜ୍ରପାତ ଅଘଟଣ ଏଡ଼ାଇବାକୁ ଲୋକଙ୍କୁ ସଚେତନ',\n",
       " ' ବତନ କରିବାକୁ କହିଛନ୍ତି ଏସଆରସି କ୍ଷୟକ୍ଷତି ବାବଦରେ ତୁରନ୍ତ ରିପୋର୍ଟ ଦେବାକୁ ମଧ୍ୟ ନିର୍ଦ୍ଦେଶ ଦେଇଛନ୍ତି ସେପଟେ ମତ୍ସ୍ୟଜୀବୀମାନଙ୍କୁ ସମୁଦ୍ର ଭିତରକୁ ଯିବାକୁ ମଧ୍ୟ ବାରଣ କରାଯାଇଛି ମତ୍ସ୍ୟଜୀବୀଙ୍କ ପାଇଁ',\n",
       " ' ନିୟମ କଡାକଡି କରିବାକୁ ଚିଠିରେ ଉଲ୍ଲେଖ ରହିଛି ଅନ୍ୟପଟେ ଦକ୍ଷିଣପଶ୍ଚିମ ମୌସୁମୀବାୟୁ ଆଜି କିମ୍ବା ଆସନ୍ତାକାଲି ସୁଦ୍ଧା ଓଡ଼ିଶାରେ ପହଞ୍ଚିପାରେ ବୋଲି ସୋଆ ଜଳବାୟୁ ଓ ପରିବେଶ କେନ୍ଦ୍ର ନିର୍ଦ୍ଦେଶକ ଡ',\n",
       " ' ଡକ୍ଟର ଶରତ ସାହୁ ପୂର୍ବାନୁମାନ କରିଛନ୍ତି ପଶ୍ଚିମ କେନ୍ଦ୍ରୀୟ ଓ ସଂଲଗ୍ନ ଉତ୍ତର ବଙ୍ଗୋପସାଗରରେ ଲଘୁଚାପ କ୍ଷେତ୍ର ସୃଷ୍ଟି ହୋଇଛି ଏହା ପ୍ରଭାବରେ ଉପକୂଳ ଓଡ଼ିଶା ସମେତ ଉତ୍ତର ଓଡ଼ିଶା ସୁନ୍ଦରଗଡ଼ ଓ',\n",
       " ' ଓ ଦେବଗଡ଼ରେ ଭଲ ବର୍ଷା ହେବ ଆଗକୁ ବର୍ଷା ହେବାକୁ ଥିବାରୁ ଅଣତିରିଶି ତାରିଖ ସୁଦ୍ଧା ଓଡ଼ିଶାରେ ମୌସୁମୀ ପହଞ୍ଚିବ ବୋଲି ପାଣିପାଗ ବିଭାଗ ଆକଳନ କରିଛି ଆଜି ଦକ୍ଷିଣ ଓଡ଼ିଶାରେ ଭାରି ବର୍ଷା ସମ୍ଭାବନା ଅଛି',\n",
       " ' କୋରାପୁଟ ମାଲକାନଗିରି ନବରଙ୍ଗପୁର ରାୟଗଡ଼ା ଗଜପତି କଳାହାଣ୍ଡି ଓ କନ୍ଧମାଳରେ ଭାରି ବର୍ଷା ହୋଇପାରେ ସେହିପରି ନୂଆପଡା ବଲାଙ୍ଗୀର ବୌଦ୍ଧ ସୋନପୁର ନୟାଗଡ଼ ଗଞ୍ଜାମ ଖୋର୍ଦ୍ଧା ଓ ପୁରୀରେ ଘଡ଼କ',\n",
       " ' ବ ଘଡ଼ି ଓ ବର୍ଷା ସହିତ ତିରିଶି ରୁ ଚାଳିଶି କିଲୋମିଟର ବେଗରେ ପବନ ବହିବ ବୋଲି ପାଣିପାଗ ବିଭାଗ ସତର୍କ ଜାରି କରିଛି ବୋଲି ଖବର ମିଳିଛି ପରବର୍ତ୍ତୀ ଖବର ଆସନ୍ତା ଅଣତିରିଶି ତାରିଖରୁ ବିକଶିତ କୃଷି',\n",
       " ' କୃ ସଂକଳ୍ପ ଅଭିଯାନ ପୁରୀରୁ ଶୁଭାରମ୍ଭ କରିବେ ପ୍ରଧାନମନ୍ତ୍ରୀ ନରେନ୍ଦ୍ର ମୋଦି କେନ୍ଦ୍ର ସରକାରଙ୍କ ଯୁଗନ୍ତକାରୀ କୃଷି ପଦକ୍ଷେପଗୁଡ଼ିକୁ ତୃଣମୂଳ ସ୍ତରରେ ପହଞ୍ଚାଇ କୃଷିରେ ନବସୃଜନ ସୃଷ୍ଟି କରିବା ଲକ୍ଷ୍ୟରେ',\n",
       " ' ଆରମ୍ଭ ହେବାକୁ ଯାଉଛି ବିକଶିତ କୃଷି ସଂକଳ୍ପ ଅଭିଯାନ ଆସନ୍ତା ମେ ମାସ ଅଣତିରିଶ ତାରିଖ ଅର୍ଥାତ୍ ଆସନ୍ତାକାଲି ଠାରୁ ବାର ଜୁନ ପର୍ଯ୍ୟନ୍ତ ଏହି ଅଭିଯାନ ସାରା ଦେଶରେ ଚାଲିବ ଏହି ବିକଶିତ କୃି',\n",
       " ' କୃଷି ସଂକଳ୍ପ ଅଭିଯାନ ଓଡ଼ିଶାର ଐତିହ୍ୟ ସହର ପୁରୀରୁ ଆରମ୍ଭ ହେବ ଯଶସ୍ୱି ପ୍ରଧାନମନ୍ତ୍ରୀ ନରେନ୍ଦ୍ର ମୋଦି ଆବାସୀ ମାଧ୍ୟମରେ ଅଭିଯାନର ଶୁଭାରମ୍ଭ କରିବେ କେନ୍ଦ୍ର କୃଷି ମନ୍ତ୍ରୀ ଶିବରାଜ ସିଂହ ଚୌହାନ',\n",
       " ' ମୁଖ୍ୟମନ୍ତ୍ରୀ ମୋହନଚରଣ ମାଝି ଉପମୁଖ୍ୟମନ୍ତ୍ରୀ କନମବର୍ଦ୍ଧନ ସିଂଦେଓ ଉପମୁଖ୍ୟମନ୍ତ୍ରୀ ଶ୍ରୀମତୀ ପ୍ରଭାତୀ ପରିଡ଼ା ମତ୍ସ୍ୟ ଓ ପ୍ରାଣୀ ସମ୍ମ୍ପଦ ବିକାଶ ମନ୍ତ୍ରୀ ଗୋକୁଳାନନ୍ଦ ମଲ୍ଲିକ ଏହି କାର୍ଯ୍ୟକ୍ରମରେ ଯୋଗଦେଇ ଏହାକୁ',\n",
       " ' ସାଫଲ୍ୟ ମଣ୍ଡିତ କରିବେ ଏହାକୁ ନେଇ କୃଷିଭବନସ୍ଥିତ ସମ୍ମିଳନୀ କକ୍ଷରେ ଗତକାଲି ଉପମୁଖ୍ୟମନ୍ତ୍ରୀ ତଥା କୃଷି ଓ କୃଷକ ସଶକ୍ତିକରଣ ଏବଂ ଶକ୍ତିମନ୍ତ୍ରୀ କନକବର୍ଦ୍ଧନ ସିଂହଦେଓଙ୍କ ଅଧ୍ୟକ୍ଷତାରେଛନ୍ତି',\n",
       " ' ପ୍ରସ୍ତୁତି ବୈଠକ ଅନୁଷ୍ଠିତ ହୋଇଯାଇଛି ବିଭାଗୀୟ ପ୍ରମୁଖ ଶାସନ ସଚିବ ଡକ୍ଟର ଅରବିନ୍ଦ କୁମାର ପାଢ଼ୀ ମଧ୍ୟ ଉପସ୍ଥିତ ଥିଲେ ଅଣତିରିଶି ତାରିଖ ଅର୍ଥାତ୍ ଆସନ୍ତାକାଲି ଠାରୁ ଆରମ୍ଭ ହେବାକୁ ଥିବା ଏହି ବିକଶିତ',\n",
       " 'ିତ କୃଷି ସଂକଳ୍ପ ଅଭିଯାନ ନିମନ୍ତେ ସମସ୍ତ ପ୍ରସ୍ତୁତି ଚୂଡ଼ାନ୍ତ ପର୍ଯ୍ୟାୟରେ ପହଞ୍ଚିଛି ଏନେଇ ଡକ୍ଟର ପାଢ଼ୀ କହିଛନ୍ତି ବୋଲି ଖବର ମିଳିଛି ପରବର୍ତ୍ତୀ ଖବର ନୂଆ ହିତାଧିକାରୀଙ୍କୁ ମିଳିଲା ନୂଆ ରାସନ କାର୍ଡପ',\n",
       " 'ଙ୍କୁ କେବେ ମିଳିବ ନୂଆ ରାସନ କାର୍ଡ ଜାଣିନିଅନ୍ତୁ ଗୋଟିଏପଟେ ଗଞ୍ଜାମ ଜିଲ୍ଲା ଖଲିକୋଟ ଗସ୍ତରେ ରାଜ୍ୟ ଖାଦ୍ୟ ଓ ଯୋଗାଣ ମନ୍ତ୍ରୀ କୃଷ୍ଣଚନ୍ଦ୍ର ପାତ୍ର ଯାଇଛନ୍ତି ଏହି ଗସ୍ତରେ ସେ ବ୍ଲକ କାର୍ଯ୍ୟାଳୟ ସଭାଗୃହ',\n",
       " 'ରେ ନୂତନ ହିତାଧିକାରୀଙ୍କୁ ରାସନ କାର୍ଡ ବଣ୍ଟନ କରିଛନ୍ତି ମନ୍ତ୍ରୀଙ୍କ ହାତରୁ ରାସନ କାର୍ଡ ପାଇ ଖୁସି ହୋଇଛନ୍ତି ହିତାଧିକାରୀ ହଲିକୋଟ ବ୍ଲକର ଦୁଇ ହଜାର ପାଞ୍ଚ ଶହ ନୂତନ ହିତାଧିକାରୀଙ୍କୁ ରାସନ କାର୍ଡ ବଣ୍ଟ',\n",
       " ' ସେହିପରି ଗଞ୍ଜାମ ବ୍ଲକ ରମ୍ଭା ବିଜ୍ଞାପିତ ଅଞ୍ଚଳ ପରିଷଦ ଓ ବେଗୁନିଆପଡ଼ା ବ୍ଲକର ଅନେକ ନୂତନ ହିତାଧିକାରୀଙ୍କୁ ରାସନ କାର୍ଡ ବଣ୍ଟନ କରାଯାଇଛି ଏହି କାର୍ଯ୍ୟକ୍ରମରେ ଖଲ୍ଲଗଡ଼ ବିଧାୟକ ପୂର୍ଣ୍ଣଚ',\n",
       " ' ଚନ୍ଦ୍ର ସେଠୀ ବିଡିଓ ଦେବାଶିଷ ସାମାଲଙ୍କ ସହିତ ଅନ୍ୟ ସରକାରୀ ଅଧିକାରୀମାନେ ମଧ୍ୟ ଉପସ୍ଥିତ ରହିଥିଲେ ତେବେ ମନ୍ତ୍ରୀ କୃଷ୍ଣଚନ୍ଦ୍ର ପାତ୍ର କହିଛନ୍ତି ଯେଉଁ ଗରିବ ହିତାଧିକାରୀ ରାସନ କାର୍ଡରୁ ବଞ୍ଚିତ ହୋଇଛନ୍ତି',\n",
       " ' ସେମାନଙ୍କ ପାଇଁ ପୋର୍ଟାଲ ଖୋଲା ରହିଛି ତୁରନ୍ତ ଆବେଦନ କଲେ ସର୍ବେ କରାଯାଇ ରାସନ କାର୍ଡ ପ୍ରଦାନ କରାଯିବ ଏବଂ ଯେଉଁମାନେ ଆବେଦନ କରିଦେଇଛନ୍ତି ଏକସି କରିଦେଇଛନ୍ତି ତେବେ ସେମାନଙ୍କୁ ମଧ୍ୟ ଖୁବ',\n",
       " ' ଖୁବ୍ ଶୀଘ୍ର ନୂଆ ରାସନ କାର୍ଡ ପ୍ରଦାନ କରାଯିବ ସେପଟେ ସରକାର ବଦଳିଲା ପରେ ରାସନ କ୍ଡ ରଙ୍ଗ ମଧ୍ୟ ବଦଳିଛି ବୋଲି ମନ୍ତ୍ରୀ କହିଛନ୍ତି ସରକାର ବଦଳିଲା ତେଣୁ ସବୁ ବଦଳିବ ବୋଲି ମନ୍ତ୍ରୀ କହିଛନ୍ତି ବୋଲି ଖବର',\n",
       " ' ମିଛି ପରବର୍ତ୍ତୀ ଖବର ତାଣ୍ଡବ ରଚିବ ମହାମାରୀ କରୋନା ମୃତ୍ୟୁ ସଂଖ୍ୟା ଏଗାର ରେ ପହଞ୍ଚିଲା ଗୋଟିଏପଟେ କିଛି ବର୍ଷର ବ୍ୟବଧାନ ପରେ ପୁଣି ମୁଣ୍ଡ ଟେକିବା ଆରମ୍ଭ କରିଛି କୋଭିଡ ଊଣାଇଶ ମୁମ୍ବାଇ',\n",
       " ' ଦିଲ୍ଲୀ ଓ କେରଳରେ କୋଭିଡ ଆକ୍ରାନ୍ତଙ୍କ ସଂଖ୍ୟା ବଢ଼ିବାରେ ଲାଗିଛି ଏହାରି ମଧ୍ୟରେ ଗତକାଲି ଦେଶରେ କୋଭିଡ ଆକ୍ରାନ୍ତଙ୍କ ସଂଖ୍ୟା ଏକ ହଜାର ସତଚାଳିଶି ରେ ପହଞ୍ଚିଛି ଏବେ ସୁୁଦ୍ଧା ଦେଶରେ ଏଗାର ଜଣଙ୍କର',\n",
       " ' ମୃତ୍ୟୁ ହୋଇାରିଲାଣି କେବଳ ମହାରାଷ୍ଟ୍ରରୁ ପାଞ୍ଚ ଜଣଙ୍କର ମୃତ୍ୟୁ ହୋଇସାରିଲାଣି ଏହାକୁ ନେଇ ସ୍ୱାସ୍ଥ୍ୟ ଓ ପରିବାର କଲ୍ୟାଣ ମନ୍ତ୍ରାଳୟ ସୂଚନା ଦେଇଛି କରୋନା ଭାଇରସକୁ ନେଇ ଏଯାଏଁ କୌଣସି ଆଡଭାଇଜରୀ ଜାରି କରି ନହାନ୍ତି',\n",
       " ' କେନ୍ଦ୍ର ସରକାର ଦିଲ୍ଲୀ ମହାରାଷ୍ଟ୍ର କେରଳ କର୍ଣ୍ଣାଟକ ତାମିଲନାଡୁ ଏବଂ ଆନ୍ଧ୍ରପ୍ରଦେଶ ଭଳି ରାଜ୍ୟରେ କୋଭିଡ ଊଣାଇଶ ମାମଲା ହଠାତ୍ ବୃଦ୍ଧି ପାଇଛି ଏହି ସମସ୍ତ ରାଜ୍ୟରେ ଡାକ୍ତରଖାନାଗୁଡ଼ିକୁ ପ୍ରସ୍ତୁତ ରଖାଯଛି',\n",
       " 'ଖାଯାଇଛି କେରଳରେ ସର୍ବାଧିକ କରୋନା ରୋଗୀ ଚିହ୍ନଟ ହୋଇଥିବା ଜଣାପଡିଛି ଏହି ରାଜ୍ୟର ସ୍ୱାସ୍ଥ୍ୟ ମନ୍ତ୍ରୀ ସମସ୍ତ ଜିଲ୍ଲାରେ ନଜର ରଖିବାକୁ ନିର୍ଦ୍ଦେଶ ଦେଇଛନ୍ତି କେରଳର ଡାକ୍ତରଖାନ ଗୁଡ଼ିକରେ ମାସ୍କ ପିନ୍ଧିବା ବାଧ୍ୟତାମୂଳକ',\n",
       " 'ୂଳ କରାଯାଇଛି ଏବଂ ଥଣ୍ଡା ଓ କାଶ ଲକ୍ଷଣ ଥିବା ଲୋକଙ୍କୁ ମାସ୍କ ପିନ୍ଧିବାକୁ ପରାମର୍ଶ ଦିଆଯାଇଛି ପଡ଼ୋଶୀ କର୍ଣ୍ଣାଟକରେ ମଧ୍ୟ କୋଭିଡ ମାମଲାରେ ସାମାନ୍ୟ ବୃଦ୍ଧି ଘଟିଛି ବୋଲି ଖବର ମିଳିଛି ପରବର୍ତ୍ତୀ ଖବର',\n",
       " ' ସ ସୁଭଦ୍ରା ଯୋଜନାକୁ ନେଇ ଆସିଲା ବଡ ଖବର ଏବେ ସମସ୍ତ ହିତାଧିକାରୀଙ୍କୁ ମିଳିବ ସୁଭଦ୍ରା ଟଙ୍କା ଏନେଇ ଉପମୁଖ୍ୟମନ୍ତ୍ରୀ ପ୍ରଭାତୀ ପରିଡା ବଡ ସୂଚନା ଦେଇଛନ୍ତି ଏବେ କଲେଜ ଛାତ୍ରଛାତ୍ରୀଙ୍କ ଦ୍୍ୱାରା ସୁଭଦ୍ର',\n",
       " ' ଯୋଜନ ର ସୁର୍ବେ କରାଯିବ ସର୍ବେ ରେ ଛାତ୍ରଛାତ୍ରୀ ମାନେ ସାମିଲ ହେବେ ଯେଉଁ ଛାତ୍ରଛାତ୍ରୀ ମାନେ ସୁର୍ବେଯ କରାଇବେ ସେମାନଙ୍କୁ ସରକାର ଅଲଗା ଭାବରେ ଟଙ୍କା ପ୍ରଦାନ କରିବେ ଏହା ଦ୍ୱାରା ପ୍ରତ୍ୟେକ ଘରେ ପହଞ୍ଚିବେ କଲେଜ ଛ',\n",
       " ' ଛାତ୍ରଛାତ୍ରୀ ଯେଉଁ ମହିଳାମାନେ ସୁଭଦ୍ରା ଯୋଜନାରୁ ବାଦ୍ ପଡିଛନ୍ତି ସେମାନଙ୍କର ଛାତ୍ରଛାତ୍ରୀ ମାନେ ସୁର୍ବେଯ କରିବେ ସୁର୍ବେଯ ରେ ସେମାନଙ୍କ ସବୁ ଡକୁମେଣ୍ଟ କୁ ଭଲ ଭାବରେ ଚେକ କରାଯିବ ଯଦି ସେମାନେ ଅଯୋଗ୍ୟ ହିତାଧିକାରୀ',\n",
       " ' ହୋଇଥିବେ କଣ ପାଇଁ ଅଯୋଗ୍ୟ ହିତାଧିକାରୀ ହୋଇଛନ୍ତି ତାହାର ମଧ୍ୟ ତଥ୍ୟ ରଖିବେ ଓଡ଼ିଶା ସରକାର ଯଦି ଯୋଗ୍ୟ ହିତାଧିକାରୀ ହୋଇଥିଲେ ମଧ୍ୟ ଏପର୍ଯ୍ୟନ୍ତ ଟଙ୍କା ପାଇନାହାନ୍ତି ସେମାନଙ୍କୁ ରାକ୍ଷୀ ପୂର୍ଣ୍ଣିମାରେ ଏକାଥରକ ତିନଟି',\n",
       " 'ଟି କିସ୍ତି ଅର୍ଥାତ ପନ୍ଦର ହଜାର ସୁଭଦ୍ରା ଟଙ୍କା ମିଳିବ ବୋଲି ଉପମୁଖ୍ୟମନ୍ତ୍ରୀ ପ୍ରଭାତ ପରିଡ଼ା ବଡ ସୂଚନା ଦେଇଛନ୍ତି ପରବର୍ତ୍ତୀ ଖବର ଦେଶରେ କୋନା ସ୍ଥିତିକୁ ନେଇ ଆଜି ବସିବ ଗୁରୁତ୍ୱପୂର୍ଣ୍ଣ ବୈଠକ କେନ୍ଦ୍ର ସ୍ୱାସ୍ଥ୍ୟ',\n",
       " ' ସାସ୍ଥ୍ୟ ସଚିବଙ୍କ ଅଧ୍ୟକ୍ଷତାରେ ବସିବ ଏହି ବୈଠକ ଭିଡିଓ କନଫରେନ୍ସିଂ ଜରିଆରେ ସବୁ ରାଜ୍ୟର ଅଧିକାରୀମାନେ ସାମିଲ ହେବେ ଦେଶରେ ବ୍ୟାପୁଥିବା ଦୁଇଟି ଭେରିଏଣ୍ଟରେ କେବଳ ଥଣ୍ଡା କାଶ ଲକ୍ଷଣ ଦେଖାଯାଉଛିମ',\n",
       " ' ରାଜ୍ୟରେ ଚିହ୍ନଟ ହୋଇଥିବା ଜଣେ ଆକ୍ରାନ୍ତଙ୍କ ସ୍ୱାସ୍ଥ୍ୟବସ୍ଥା ଭଲ ରହିଛି ଦେଶର ସ୍ଥିତିକୁ ଦେଖି ରାଜ୍ୟ ସ୍ୱାସ୍ଥ୍ୟ ବିଭାଗ ସମ୍ପୂର୍ଣ୍ଣ ପ୍ରସ୍ତୁତ ଥିବା କହିଛନ୍ତି ଜନସ୍ୱାସ୍ଥ୍ୟ ନିର୍ଦ୍ଦେଶକ ଭୟଭୀତ ନ ହେବାକୁ ରାଜ୍ୟବାସୀଙ୍କୁ',\n",
       " ' ଜନସ୍ୱାସ୍ଥ୍ୟ ନିର୍ଦ୍ଦେଶକ ପରାମର୍ଶ ଦେଇଛନ୍ତି ଆଜି ବୈଠକରେ ଆଡଭାଇଜାରୀ ପ୍ରସ୍ତୁତ ହେବ ବୋଲି ଖବର ମିଳିଛି ପରବର୍ତ୍ତୀ ଖବର ବନ୍ୟା ଆଶଙ୍କାକୁ ନେଇ କଟକ ମୁ୍ୟୁନିସିପାଲିଟି କର୍ପୋରେସନ ଯନ୍ତ୍ରୀଙ୍କ ଛୁଟି',\n",
       " 'ଟି ବାତିଲ ଘୋଷଣା କରାଯାଇଛି ମେ ଏକତିରିଶି ତାରିଖ ପର୍ଯ୍ୟନ୍ତ ଛୁଟି ନେଇ ପାରିବେ ନାହିଁ ଯନ୍ତ୍ରୀ ଛୁଟି ବାତିଲ ନିଷ୍ପତି ନେଇଛନ୍ତି ମେୟ ବର୍ଷା ଆଶଙ୍କା ଜନିତ ଦୁର୍ବିପାକକୁ ଦୃଷ୍ଟିରେ ରଖି ଏହି ନିଷ୍ପତିି ନିଆଯାଇଛି',\n",
       " ' ବର୍ଷା ଯୋଗୁଁ ଜଳବନ୍ଦୀ ସ୍ଥିତି ସୃଷ୍ଟି ହେଲେ ନିଆଯିବ ପଦକ୍ଷେପ ସମ୍ପୃକ୍ତ ଅଧିକାରୀଙ୍କ କ୍ଷେତ୍ରରେ ପଦକ୍ଷେପ ଗ୍ରହଣ କରାଯିବ ଜୁନ ମାସରେ ଅଧିକ ବର୍ଷା ନେଇ ପୂର୍ବାନୁମାନ କରାଯାଇଛି ଜୁନ ମାସରେ',\n",
       " ' ଏକ ଶହେ ଛଅ ପ୍ରତିଶତ ବର୍ଷା ହେବା ନେଇ ପୂର୍ବାନୁମାନ କରିଛି ଭାରତୀୟ ପାଣିପାଗ ବୋଲି ଖବର ମିଳିଛି ପରବର୍ତ୍ତୀ ଖବର ସୁନ୍ଦରଗଡ଼ ଜିଲ୍ଲାରେ ହୋଇଥିବା କୋଇଲା ଓ ମାଙ୍ଗାନିଜ୍ ଚୋରିରେ ସମ୍ପୃକ୍ତ ସମସ୍ତ ମ',\n",
       " ' ମାଫିଆଙ୍କୁ ଧରାଯିବା ସହ ସରକାରୀ ଅଧିକାରୀ ସମ୍ପୃକ୍ତ ଥିଲେ ମଧ୍ୟ କାହାରିକୁ ଛଡ଼ାଯିବ ନାହିଁ ବୋଲି ରାଜସ୍ୱ ମନ୍ତ୍ରୀ ସୁରେଶ ପୂଜାରୀ କହିବା ସହ ରାଜ୍ୟରେ ଥିବା ସୀମା ବିବାଦର ସମାଧାନ ଖୁବଶୀଘ୍ର ଶେଷ ହେବ ବୋଲି',\n",
       " ' ମନ୍ତ୍ରୀ କହିଛନ୍ତି ଦିନିକିଆ ସୁନ୍ଦରଗଡ଼ ଗସ୍ତରେ ଆସି ମନ୍ତ୍ରୀ ସ୍ଥାନୀୟ ବିକାଶ ଭବନ ଠାରେ ଜିଲ୍ଲା ସ୍ତରୀୟ ସମୀକ୍ଷା ବୈଠକରେ ଯୋଗଦେବା ସହ ଜିଲ୍ଲାରେ ଲାଗି ରହିଥିବା ସମସ୍ୟାର ସମାଧାନ ନିମନ୍ତେ ଅଧିକାରୀ ମ',\n",
       " ' ସେମାନଙ୍କୁ ନିର୍ଦ୍ଦେଶ ଦେଇଥିଲେ ଜିଲ୍ଲାରେ ହୋଇଥିବା କୋଇଲା ଓ ମାଙ୍ଗାନିଜି ଚୋରିର ତଦନ୍ତ ପାଇଁ ଏସଆଇଟି ଗଠନ ହୋଇଥିବାବେଳେ ମାଫିଆଙ୍କୁ ଧରିବା ପାଇଁ ଦରକାର ପଡ଼ିଲେ ଏସଆଇଟିକୁ ଆହୁରି ମଜବୁତ କରାଯିବା ପାଇଁ ପଦକ୍ଷେପ ନଥିଲେ',\n",
       " ' ନିଆଯିବ ଏହାସହ ବାଲି ମାଫିଆମାନାନଙ୍କୁ ଧରାଯିବା ପାଇଁ ସ୍ୱତନ୍ତ୍ର ରଣନୀତି ପ୍ରସ୍ତୁତ କରାଯାଇଛି ବୋଲି ମନ୍ତ୍ରୀ କହିଛନ୍ତି ବୋଲି ଖବର ମିଳିଛି ପରବର୍ତ୍ତୀ ଖବର ଆଇଟିଆରକୁ ନେଇ ଆସିଲା ବଡ଼ ଖବର ଆୟକ',\n",
       " 'ର ପୈଠ ଅବଧି ବୃଦ୍ଧି କଲେ କେନ୍ଦ୍ର ସରକାର ଆୟକର ରିଟର୍ଣ ଫାଇଲ କରୁଥିବା ବ୍ୟକ୍ତିଙ୍କ ପାଇଁ ବଡ଼ ଖବର କେନ୍ଦ୍ରୀୟ ପ୍ରତ୍ୟକ୍ଷ ଟିକସ ବୋର୍ଡ ସିବିଡିଟି ଏକତିରିଶି ଜୁଲାଇ ଦୁଇ ହଜାର ପଚିଶି କିମ୍ବା ତା ପୂର୍ବ',\n",
       " 'ବରୁ ଦାଖଲ କରିବାକୁ ଥିବା ଆଇଟିଆର ଫାଇଲିଂର ଶେଷ ତାରିଖକୁ ବୃଦ୍ଧି କରିଛି କରଦାତାଙ୍କୁ ଏକ ବଡ଼ ଆଶ୍ୱସ୍ତି ଦେଇ ଆର୍ଥିକ ବର୍ଷ ଦୁଇଏ ହଜାର ଚବିଶ ଶେ ପଚିଶି ଏୱାଇ ଦୁଇ ହଜାର ପଚିଶି ଛବିଶି ପାଇଁ ଆୟକରରେ',\n",
       " ' ରିଟର୍ଣ ଦାଖଲ କରିବାର ଶେଷ ତାରିଖକୁ ଏବେ ସେପ୍ଟେମ୍ବର ପନ୍ଦର ଦୁଇ ହଜାର ପଚିଶି ପର୍ଯ୍ୟନ୍ତ ବୃଦ୍ଧି କରାଯାଇଛି ଆଇଟିଆର ଫର୍ମର ବିଜ୍ଞପ୍ତି ଜାରି କରିବାରେ ବିଳମ୍ବ ହେବା ପରେ ଏହି ନିଷ୍ପ୍ତି ନିଆଯାଇଛି ଚଳିତ ବର୍ଷ',\n",
       " ' ବଶ ଆଇଟିଆର ଫର୍ମରେ ହୋଇଥିବା ଗୁରୁତ୍ୱପୂର୍ଣ୍ଣପଡେଟ୍ ଫାଇଲିଂ ସିଷ୍ଟମରେ ଆବଶ୍ୟକୀୟ ସଂଶୋଧନ ଏବଂ ଟିଡିଏସ୍ କ୍ରେଡିଟ୍ ପ୍ରତିଫଳନରେ ବିଳମ୍ବକୁ ଦୃଷ୍ଟିରେ ରଖି ଏହି ନିଷ୍ପତ୍ତି ନିଆଯାଇଛି ଅଧିକାରୀଙ୍କ ଅନ',\n",
       " ' ଅନୁଯାୟୀ ସମସ୍ତ ବର୍ଗର କରଦାତାଙ୍କ ପାଇଁ ଏକ ସୁଗମ ଏବଂ ସଠିକ ଟିକସ ଫାଇଲିଂ ଅଭିଜ୍ଞତା ସୁନିଶ୍ଚିତ କରିବା ପାଇଁ ଇଟିଆର ଶେଷ ତାରିଖ ବୃଦ୍ଧି କରାଯାଇଛି ବୋଲି ଖବର ମିଳିଛି ପରବର୍ତ୍ତୀ ଖବର',\n",
       " ' ପେନସନ ନିୟମରେ ହେଲା ବଡ ପରିବର୍ତ୍ତନ ରାଷ୍ଟ୍ରାୟତ ଉଦ୍ୟୋଗଗୁଡ଼ିକରେ କାମ କରୁଥିବା ଲକ୍ଷ ଲକ୍ଷ ସରକାରୀ କର୍ମଚାରୀଙ୍କ ପାଇଁ ଏକ ବଡ ଖବର ସରକାର ପେନସନ୍ ନିୟମରେ ବଡ ପରିବର୍ତ୍ତନ କରିଛନ୍ତି କୌଣସି ପବ୍ଲିକ',\n",
       " ' ସେକ୍ଟର ଅଣ୍ଡରଟେକିଂ ବା ରାଷ୍ଟ୍ରାୟତ ଉଦ୍ୟୋଗର କୌଣସି କର୍ମଚାରୀଙ୍କୁ ଚାକିରିରୁ ବହିଷ୍କାର କରାଯିବା କ୍ଷେତ୍ରରେ ତାଙ୍କୁ ଅବସରକାଳୀନ ସୁବିଧା ମିଳିବନା ଏହି ସୂଚନା ଦେଇ କେନ୍ଦ୍ର ସରକାର କହିଛନ୍ତି ଯେ ଏପରି',\n",
       " ' ବହିଷ୍କାରର ନିଷ୍ପତତିି ସମ୍ପୃକ୍ତ ପ୍ରଶାସନିକ ମନ୍ତ୍ରାଳୟ ଦ୍୍ୱାରା ସମୀକ୍ଷା କରାଯିବ କାର୍ମିକ ମନ୍ତ୍ରଣାଳୟ ଏହି ସମ୍ବନ୍ଧରେ କେନ୍ଦ୍ରୀୟ ସିଭିଲ ସେବା ନିୟମ ଦୁଇ ହଜାର ଏକୋଇଶି ରେ ବଡ଼ ପରିବର୍ତ୍ତନ କରିଛି ଅର୍ଥାତ୍',\n",
       " ' ଯଦି ଜଣେ କର୍ମଚାରୀ ବେଆଇନ କାମରେ ଜଡିତ ବୋଲି ଜଣାପଡେ ଏବଂ ତାଙ୍କୁ ଚାକିରିରୁ ବହିଷ୍କାର କରାଯାଏ ତେବେ ତାଙ୍କୁ ପେନସନ୍ ମିଳିବ ନାହିଁ ବୋଲି ଖବର ମିଳିଛି ପରବର୍ତ୍ତୀ ଖବର ଶେଷରେ ଭାରତ ଆଗରେ ମୁଣ୍ଡ ନୁଆଁଇଲା',\n",
       " ' ପାକିସ୍ତାନ ମୋଦିଙ୍କୁ ଏମିତି ପ୍ରସ୍ତାବ ଦେଲେ ସେହବାଜ ଯୁଦ୍ଧ ଧମକ ଦେଉଥିବା ବିଚରା ପାକିସ୍ତାନ ଶେଷରେ ଭାରତ ଆଗରେ ମୁଣ୍ଡ ନୁଆଁଇଛି ପାକ୍ ପ୍ରଧାନମନ୍ତ୍ରୀ ସେହବାଜ ସରି ଭାରତ ସହିତ ଶାନ୍ତି ଆଲୋଚନା ପାଇଁ ପ୍ରସ୍ତ',\n",
       " ' ପ୍ରସ୍ତାବ ଦେଇଛନ୍ତି ତେହେରାନରୁ ଦିଆଯାଇଥିବା ଏହି ବିବୃତିରେ ସେ କାଶ୍ମୀର ଆତଙ୍କବାଦ ଜଳ ଏବଂ ବାଣିଜ୍ୟ ଭଳି ଗୁରୁତ୍ୱପୂର୍ଣ୍ଣ ପ୍ରସଙ୍ଗରେ କଥାବାର୍ତ୍ତା କରିବାକୁ ଇଚ୍ଛା ପ୍ରକାଶ କରିଛନ୍ତି ସେହବାଜ ସରିଫ୍ ଇରାନଙ୍କ',\n",
       " ' ଗସ୍ତ ସମୟରେ ତେହେରାନରେ ଏହି ବୟାନ ଦେଇଛନ୍ତି ତୁର୍କୀରୁ ତେହେରାନରେ ପହଞ୍ଚିଥିବା ସେହେବଜ ସେଠାରେ ଏକ ମିଳିତ ସାମ୍ବାଦିକ ସମ୍ମିଳନୀରେ କହିଛନ୍ତି ଆମେ କାଶ୍ମୀର ଜଳ ଆତଙ୍କବାଦ ଏବଂ ବାଣିଜ୍ୟ ଭଳି',\n",
       " ' ପ୍ରସଙ୍ଗରେ ଭାରତ ସହିତ କଥାବାର୍ତ୍ତା କରିବାକୁ ପ୍ରସ୍ତୁତ ଆମେ ପଡୋଶୀ ଏବଂ ଶାନ୍ତି ଆମର ପ୍ରାଥମିକତା ଯଦି ଭାରତ ଆମର ଶାନ୍ତି ପ୍ରସ୍ତାବକୁ ଗ୍ରହଣ କରେ ତେବେ ଆମେ ସଚୋଟ ଆଲୋଚନା ପାଇଁ ପ୍ରସ୍ତୁତ ବୋଲି ପାକ',\n",
       " ' ପ୍ରଧାନମନ୍ତ୍ରୀ ସେହବାଜ ସରିଫ କହିଛନ୍ତି ବୋଲି ଖବର ମିଳିଛି ପରବର୍ତ୍ତୀ ଖବର ପୁଣି ବଢିଲା ସୁନା ଜାଣନ୍ତୁ କେତେ ଅଛି ଦାମ୍ ଆଜି ଚବିଶି କରଟ ସୁନାର ମୂଲ୍ଯ ଦଶ ଗ୍ରାମ ପିଛା ଅଠାନବେ ହଜାର ଶହେ ତିରିଶି ଟଙ୍କା',\n",
       " ' ରହିଛି ଗତକାଲି ଏହା ସତାନବେ ହଜାର ଛଅଶହ ଚାଳିଶ ଟଙ୍କା ଥିଲା ଏଥିରେ ଚାରିଶହ ନବେ ଟଙ୍କା ବୃଦ୍ଧି ହୋଇଛି ସେହିପରି ବାଇସ କାରେଟ ସୁନର ମୂଲ୍ୟ ଦଶ ଗ୍ରାମ ପିଛା ଅଣାନବେ ହଜାର ନଅଶହ ପଚାଶ ଟଙ୍କା ରହିଛି ଗତକାଲି',\n",
       " ' ଗତକାଲି ଏହା ଅଣାନବେ ହଜାର ପାଞ୍ଚଶହ ଟଙ୍କା ଥିଲା ଏଥିରେ ଚାରିଶହ ପଚାଶ ଟଙ୍କା ବୃଦ୍ଧି ହୋଇଛି ତା ସହିତ ଅଠର କ୍ୟାରେଟ ସୁନର ମୂଲ୍ୟ ଦଶ ଗ୍ରାମ ପିଛା ତେସ୍ତରୀ ହଜାର ଛଅଶହ ଟଙ୍କା ରହିଛି ଗତକାଲି ଏହା ତେସ୍ତରୀ',\n",
       " ' ହଜାର ଦୁଇଶହ ତିରିଶ ଟଙ୍କା ଥିଲା ଏଥିରେ ତିନିଶହ ସତରିୀ ଟଙ୍କା ବୃଦ୍ଧି ହୋଇଛି କିନ୍ତୁ ରୁପା ଦାମରେ କୌଣସି ପରିବର୍ତ୍ତନ ହୋଇନାହିଁ ଶହେ ଗ୍ରାମ ରୁପା ଦମ୍ ଏଗାର ହଜାର ଶହେ ଟଙ୍କା ରହିଛି ଗତକାଲି ମଧ୍ୟ ଏଗାର ହଜାର ଶହେ',\n",
       " ' ଟଙ୍କା ଥିଲା ବୋଲି ଖବର ମିଳିଛି ପରବର୍ତ୍ତୀ ଖବର ସେନାକୁ ସମର୍ପିତ ହେବ ଆଇପିଏଲ ଫାଇନାଲ ମ୍ୟାଚ୍ ସିଡିଏସ୍ଓଙ୍କ ସମେତ ଆସିବେ ତିନି ସେନାର ମୁଖ୍ୟ କ୍ରିକେଟ ମୈଦାନରେ ସେନାର ଶୌର୍ଯ୍ୟକୁ କରାଯିବ ସ',\n",
       " ' ଆଇପିଏଲ ଗ୍ରାଣ୍ଡ ଫାଇନାଲ୍ ମ୍ୟାଚରେ ଅପରେସନ ସିନ୍ଦୁରର ସଫଳତା ଉତ୍ସବ ପାଳନ ହେବ ସିଡିଏସ୍ଫଙ୍କ ସମେତ ତିନି ସେନାର ମୁଖ୍ୟ ଏହି ଅବସରରେ ସାମିଲ ହେବାକୁ ନିମନ୍ତ୍ରଣ କରାଯାଇଛି ବିସିସିଆଇ ପକ୍ଷରୁ ଏ',\n",
       " ' ନେଇ ପ୍ରସ୍ତୁତି କରାଯାଇଥିବା ଜାତୀୟ ଗଣମାଧ୍ୟମରୁ ସୂଚନା ମିଳିଛି ଜୁନ ତିନି ତାରିଖରେ ଅହମ୍ମଦାବାଦର ନରେନ୍ଦ୍ର ମୋଦୀ ଷ୍ଟାଡିୟମ ରେ ଖେଳାଯିବ ଇପ୍ଲ ଦୁଇ ହଜାର ପଚିଶି ର ଫାଇନାଲ୍ ମୁକାବିଲା ଉଦ୍ଯାପନୀ ଉତ୍ସବକୁ ଭାରତ',\n",
       " ' ଭାରତୀୟ ସେନାର ବୀର ଯବାନଙ୍କ ଉଦ୍ଦେଶ୍ୟରେ ଉତ୍ସର୍ଗୀକୃତ କରାଯିବ ବୋଲି ଖବର ମିଳିଛି ତ ଦର୍ଶକ ବନ୍ଧୁ ଏଥିଲା ଆଜି ସକାଳର କେତୋଟି ଗୁରୁତ୍ୱପୂର୍ଣ୍ଣ ଖବର ଯଦି ଭିଡିଓଟି ଭଲ ଲାଗିଛି ଲାଇିକ କରିବା ସହିତ ଆମ ଚ୍ୟାନେଲ କୁ',\n",
       " ' ସବସ୍କ୍ରାଇବ କରନ୍ତୁ ଭିଡ଼ିଓଟି ସମ୍ପୂର୍ଣ୍ଣ ଦେଖିଥିବାରୁ ଆପଣମାନଙ୍କୁ ବହୁତ ବହୁତ ଧନ୍ୟବାଦ']"
      ]
     },
     "execution_count": 12,
     "metadata": {},
     "output_type": "execute_result"
    }
   ],
   "source": [
    "full_transcription"
   ]
  },
  {
   "cell_type": "code",
   "execution_count": 13,
   "id": "41140515",
   "metadata": {},
   "outputs": [
    {
     "data": {
      "text/plain": [
       "['Today is the 28th of May, Wednesday I bring you some important news of the day so watch the video till the end and your love',\n",
       " \"Click on the next ballpoint to subscribe to the channel and if you are new to the channel, let's take a look at\",\n",
       " 'The last date to apply for PM Awas Yojana is May 31.',\n",
       " 'Rav Narayan Naik has informed that so far, there have been 631 lakh lists of people who have not registered,',\n",
       " 'However, the selection of beneficiaries will be completed within a month or two. The mobile app Abhaas Plus launched by the Union',\n",
       " 'You can easily apply for your home under Awas Yojana Prime Minister Awas Yojana by May 31st after which the application will not',\n",
       " 'The Minister also said that the government has plans to get the houses after monsoon.',\n",
       " 'If you are excluded from these schemes, you will get houses under the Endodaya Yojana, said Ravinarayan Na',\n",
       " '60 thousand houses have been given now another lakh houses are reported to be given next news in the Bay of Bengal',\n",
       " 'The Special Relief Commission has written to all the district governors about the rain warning in the state.',\n",
       " 'SRC orders to be prepared and alert for possible rainfall, warns people to avoid lightning strikes in Bay of Bengal',\n",
       " 'The SRC has also ordered the immediate reporting of the damage, while the fishermen have been banned from entering the sea',\n",
       " 'The letter to tighten the rules states that the southwestern monsoon may reach Odisha today or tomorrow.',\n",
       " 'Dr. Sharat Shah predicts that the West Central and adjacent North Bay of Bengal will be affected by the creation of smallpo',\n",
       " 'And due to good rainfall in Devgarh, Monsoon is expected to arrive in Odisha by the 30th, weather department estim',\n",
       " 'Coraput Malkangir Nagarampur Raigada Gajpati in Kalahandi and Kandhamal may be heavy rainfall as',\n",
       " 'The weather department has issued a wind warning of 30 to 40 km with clock and rain.',\n",
       " 'Prime Minister Narendra Modi will launch Krishna Sankshakti Mission in Puri to bring groundbreaking agricultural initiatives of the Union Government to',\n",
       " 'The campaign will be launched across the country from May 30th till 12th June.',\n",
       " 'KICS will be launched from the heritage city of Puri, Odisha. Union Minister of Agriculture Shivraj Singh C',\n",
       " 'Chief Minister Mohancharan Mazhi Deputy Chief Minister Kanmberddhan Singhdeo Deputy Chief Minister Shri Prati',\n",
       " 'The meeting room at Khrishvibhavan was presided over by Deputy Chief Minister and Minister of Agriculture and Farmers Em',\n",
       " 'Preparatory Meeting held in the Department Head Secretary of State Dr. Arvind Kumar Padhri was also present at the launch',\n",
       " 'Dr. Padhi said that all preparations for the YKK resolutions campaign have reached the final stage.',\n",
       " 'The Minister of State for Food and Supply Krishnchandra Patre has visited the Block Office Hall during the visit.',\n",
       " 'Ration Card Distribution to new beneficiaries of the scheme The Minister is happy to receive Ration Card from the hands of the beneficiaries',\n",
       " 'Ganjam Block Rambha notified area council and Beguniapada block ration cards were distributed to many new beneficiaries',\n",
       " 'While other government officials were present along with Devasish Samal, Minister Krishnchandra Patra said that the poor beneficiaries who',\n",
       " 'The portal is open for them to apply immediately and the ration card will be given by the survey and those who have applied will also be given',\n",
       " 'The Minister said that the government has changed and everything will change.',\n",
       " 'The coronavirus death toll has reached 11 after a few years gap, COVID-19 Mumbai has started to rise again',\n",
       " 'The number of COVID cases in Delhi and Kerala has been rising, while the number of COVID cases in the country reached 1,476',\n",
       " 'Five deaths in Maharashtra alone, Ministry of Health and Family Welfare has said that no advisory has been issued on',\n",
       " 'Government Central Delhi Maharashtra Kerala Karnataka Tamil Nadu and Andhra Pradesh are all states with a sudden increase',\n",
       " 'Kerala has reported the highest number of coronavirus cases, Health Minister has ordered all districts to be monitored, mask is mandat',\n",
       " 'People with colds and cough symptoms advised to wear masks and COVID cases have also increased slightly in neighbouring Karnat',\n",
       " 'Subhashtra Rupee Now Available to All Beneficiaries Subhashtra Rupee Now Available to College Students',\n",
       " 'The scheme will be surveyed by students who will be surveyed by the government will be paid separately so that they can reach every hous',\n",
       " 'Students of women who are excluded from Subhadhya Jyoti Survey students will be checked all their documents in Survey if',\n",
       " 'The Government of Odisha will also keep a record of why they have been disqualified. If they are eligible beneficiaries but',\n",
       " 'Deputy Chief Minister Probhāt Parida has announced that Rs 15,000 Subhadra will be paid in T-quotas.',\n",
       " 'The meeting will be chaired by the Secretary of Health and will involve all the officials of the states through video conferencing.',\n",
       " 'The State Health Department is fully prepared to take into account the situation in the state.',\n",
       " 'Director of Public Health advised that the meeting will be held today to prepare advisory reports on the flood risk of the Cuttack',\n",
       " 'The decision to cancel the mechanical holidays has been taken in view of the risk of flooding due to the May rainfall.',\n",
       " 'Action taken in case of water blockage due to rainfall in the case of officials concerned',\n",
       " 'Indian weather forecast for rainfall of 160% reportedly reported in the next news in Sundargarh district all the deaths related',\n",
       " 'Revenue Minister Suresh Pujari said that no one will be released even if the mafia is caught and government officials are involved and that the',\n",
       " 'Minister said that Minister will visit Sundergarh for a day and attend a district-level review meeting at Local Development Bhavan and the',\n",
       " 'He directed them to set up an SIT to investigate the theft of coal and manganese in the district, but not',\n",
       " 'The Minister said that special strategy has been developed to catch Bali Mafia Manan.',\n",
       " 'The Central Board of Direct Taxes CBDT extends the deadline for filing the Income Tax Return by the Central Government on',\n",
       " 'The deadline for filing the ITR has been extended by the Board of Governors to provide a major relief to the taxpay',\n",
       " 'The deadline for filing the return has now been extended to September 15, 2500 after the delay in issuing the notification of the IT',\n",
       " 'The decision was taken in view of the necessary amendments to the filing system and delay in the reflection of TDS credits.',\n",
       " 'According to the latest news, the ETR deadline has been extended to ensure an easy and accurate tax filing experience for all',\n",
       " 'Big changes in pension rules are big news for millions of government employees working in public sector enterprises The government has made big changes in pension rules',\n",
       " 'The Union Government has said that no retirement benefits will be given to any employee of the sector undertaking or P&G if',\n",
       " 'The decision of dismissal will be reviewed by the Ministry of Public Administration, Ministry of Personnel The Union Civil Service Regula',\n",
       " 'An employee who is found to be engaged in illegal work and is dismissed from his job will not receive a pension.',\n",
       " 'Pakistan has offered to Modi that Pakistan, which has threatened war with Sehbaz, is finally bowing to India',\n",
       " 'In this statement from Tehran, he proposed to discuss issues of importance like Kashmir terrorism water and trade.',\n",
       " 'During his visit to Tehran, Shehbaz, who arrived from Turkey in Tehran, said at a joint press conference there that we',\n",
       " 'We are ready to talk to India on issues of peace and neighbourhood our priority if India accepts our peace proposal we are ready for',\n",
       " 'Prime Minister Sehbaz Sharif says gold has risen again in the last few days.',\n",
       " 'Yesterday it was Rs. 79,600, which is up Rs. 490, and yesterday the price of two carats of gold is',\n",
       " 'Yesterday it was Rs. 19,500, which is an increase of Rs. 450, and also 18 carats of gold worth Rs.',\n",
       " 'Rs. 3,230 was raised to Rs. 3,70, but the price of the rupee has not changed. Rs. 1,100',\n",
       " 'The next news will be handed over to the army, the final match of the IPL will be played at the main cricket ground',\n",
       " 'The BCCI has invited the heads of three armies including the CDSF to attend the event to celebrate the success of Operation',\n",
       " 'The National Media has reported that India will host the final of IPL 2K5 match at Narendra Modi Stadium in Ahmedabad on June',\n",
       " 'The news that the event will be dedicated to the heroes of the Indian Army was a big news story this morning.',\n",
       " 'Subscribe. Thank you very much for watching the full video.']"
      ]
     },
     "execution_count": 13,
     "metadata": {},
     "output_type": "execute_result"
    }
   ],
   "source": [
    "english_translation"
   ]
  },
  {
   "cell_type": "code",
   "execution_count": 23,
   "id": "65663d54",
   "metadata": {},
   "outputs": [
    {
     "data": {
      "text/plain": [
       "['Today is the 28th of May, Wednesday I bring you some important news of the day so watch the video till the end and your love',\n",
       " \"Click on the next balllight to subscribe to the channel and if you are new to the channel, let's first look at the\",\n",
       " 'The last date to apply for PM Awas Yojana is May 31.',\n",
       " 'Rav Narayan Naik has informed that so far, there have been 631 lakh lists of people who have not registered,',\n",
       " 'The mobile app launched by the Union Government, Abhaas Plus, is available in a month or two.',\n",
       " 'You can easily apply for your home under Awas Yojana Prime Minister Awas Yojana by May 31st after which the application will not',\n",
       " 'The Minister also said that the government has plans to get the houses after monsoon.',\n",
       " 'If you are excluded from these schemes, you will get houses under the Endodaya Yojana, said Ravinarayan Na',\n",
       " '60 thousand houses have been given now another lakh houses are reported to be given next news in the Bay of Bengal',\n",
       " 'The Special Relief Commission has written to all the district governors about the rain warning in the state.',\n",
       " 'SRC orders to be prepared and alert for possible rainfall, warns people to avoid lightning strikes in Bay of Bengal',\n",
       " 'The SRC has also ordered the immediate reporting of the damage, while the fishermen have been banned from entering the sea',\n",
       " 'The letter to tighten the rules states that the southwestern monsoon may reach Odisha today or tomorrow.',\n",
       " 'Dr Sharat Shah predicts that the West Central and adjacent North Bay of Bengal will be affected by the creation of smallpox',\n",
       " 'The weather department has estimated that monsoon will arrive in Odisha by the 30th due to good rainfall in Devgarh.',\n",
       " 'Coraput Malkangir Nagarampur Raigada Gajpati in Kalahandi and Kandhamal may be heavy rainfall as',\n",
       " 'The weather department has issued a wind warning of 30 to 40 km with clock and rain.',\n",
       " 'Prime Minister Narendra Modi will launch Krishna Sankshakti Mission in Puri to bring groundbreaking agricultural initiatives of the Union Government to',\n",
       " 'The campaign will be launched across the country from May 30th till 12th June.',\n",
       " 'Krsikshya Sabha Mission to start in the heritage city of Puri, Odisha Yashvi Prime Minister Narendra',\n",
       " 'Chief Minister Mohancharan Mazhi Deputy Chief Minister Kanmberddhan Singhdeo Deputy Chief Minister Shri Prati',\n",
       " 'The meeting room at Khrishvibhavan was presided over by Deputy Chief Minister and Minister of Agriculture and Farmers Em',\n",
       " 'The preparation meeting was held with the Head of Department, Shri Dr. Arvind Kumar Paddy also present.',\n",
       " 'Dr. Padhi said that all preparations for the YKK resolutions campaign have reached the final stage.',\n",
       " 'The Minister of State for Food and Supply Krishnchandra Patre has visited the Block Office Hall during the visit.',\n",
       " 'Ration Card Distribution to new beneficiaries of the scheme The Minister is happy to receive Ration Card from the hands of the beneficiaries',\n",
       " 'Ganjam Block Rambha notified area council and Beguniapada block ration cards were distributed to many new beneficiaries',\n",
       " 'While other government officials were present along with Devasish Samal, Minister Krishnchandra Patra said that the poor beneficiaries who',\n",
       " 'The portal is open for them to apply immediately and the ration card will be given by the survey and those who have applied for it will also',\n",
       " 'The Minister said that the government has changed and everything will change.',\n",
       " 'The coronavirus death toll has reached 11 after a few years gap, COVID-19 Mumbai has started to rise again',\n",
       " 'The number of COVID cases in Delhi and Kerala has been on the rise, while the number of COVID cases in the country reached 1 46',\n",
       " 'Five deaths in Maharashtra alone, Ministry of Health and Family Welfare has said that no advisory has been issued on',\n",
       " 'Government Central Delhi Maharashtra Kerala Karnataka Tamil Nadu and Andhra Pradesh are all states with a sudden increase',\n",
       " 'Kerala has reported the highest number of coronavirus cases, Health Minister has ordered all districts to be monitored, mask is mandat',\n",
       " 'People with colds and cough symptoms advised to wear masks and COVID cases have also increased slightly in neighbouring Karnat',\n",
       " 'Subhashtra Rupee Now Available to All Beneficiaries Subhashtra Rupee Now Available to College Students',\n",
       " 'The scheme will be surveyed by students who will be surveyed by the government will be paid separately so that they can reach every hous',\n",
       " 'Students of women who are excluded from Subhadhya Jyoti Survey students will be checked all their documents in Survey if',\n",
       " 'The Government of Odisha will also keep a record of why they have been disqualified. If they are eligible beneficiaries but',\n",
       " 'Deputy Chief Minister Probhāt Parida has announced that Rs 15,000 will be paid in T-quotas.',\n",
       " 'The meeting will be chaired by the Secretary of Health and will involve all the officials of the states through video conferencing.',\n",
       " 'The State Health Department is fully prepared to take into account the situation in the state.',\n",
       " 'Director of Public Health advised that the meeting will be held today to prepare advisory reports on the flood risk of the Cuttack',\n",
       " 'The decision to cancel the mechanical holidays has been taken in view of the risk of flooding due to the May rainfall.',\n",
       " 'Action taken in case of water blockage due to rainfall in the case of officials concerned',\n",
       " 'Indian weather forecast for rainfall of 166% reportedly following the latest news in Sundargarh district',\n",
       " 'Revenue Minister Suresh Pujari said that no one will be released even if the mafia is caught and government officials are involved and that the',\n",
       " 'Minister said that Minister will visit Sundergarh for a day and attend a district-level review meeting at Local Development Bhavan and the',\n",
       " 'He directed them to set up an SIT to investigate the theft of coal and manganese in the district, but not',\n",
       " 'The Minister said that special strategy has been developed to catch Bali Mafia Manan.',\n",
       " 'The Central Board of Direct Taxes CBDT extends the deadline for filing the Income Tax Return by the Central Government on',\n",
       " 'The deadline for filing the ITR has been extended by the Board of Governors to provide a major relief to the taxpay',\n",
       " 'The deadline for filing the return has now been extended to 15th September, 2500 after the delay in issuing the notification of',\n",
       " 'The decision was taken in view of the necessary amendments to the BUSH ITR Form and delays in the reflection of T',\n",
       " 'According to the latest news, the ETR deadline has been extended to ensure an easy and accurate tax filing experience for all',\n",
       " 'Big changes in pension rules are big news for millions of government employees working in public sector enterprises The government has made big changes in pension rules',\n",
       " 'The Union Government has said that no retirement benefits will be given to any employee of the sector undertaking or P&G if',\n",
       " 'The decision of dismissal will be reviewed by the Ministry of Public Administration, Ministry of Personnel The Union Civil Service Regula',\n",
       " 'An employee who is found to be engaged in illegal work and is dismissed from his job will not receive a pension.',\n",
       " 'Pakistan has offered to Modi that Pakistan, which has threatened war with Sehbaz, is finally bowing to India',\n",
       " 'In this statement from Tehran, he proposed to discuss issues of importance like Kashmir terrorism water and trade.',\n",
       " 'During his visit to Tehran, Shehbaz, who arrived from Turkey in Tehran, said at a joint press conference there that we',\n",
       " 'We are ready to talk to India on issues of peace and neighbourhood our priority if India accepts our peace proposal we are ready for',\n",
       " 'Prime Minister Sehbaz Sharif says gold has risen again in the last few days.',\n",
       " 'Yesterday it was Rs. 79,600, which is up Rs. 490, and yesterday the price of two carats of gold is',\n",
       " 'Yesterday it was Rs. 19,500, which is an increase of Rs. 450, and also 18 carats of gold worth Rs.',\n",
       " 'Rs. 3,230 was raised to Rs. 3,70, but the price of the rupee has not changed. Rs. 1,100',\n",
       " 'The next news will be handed over to the army, the final match of the IPL will be played at the main cricket ground',\n",
       " 'The heads of three armies including the CDSF, will be invited to attend the IPL Grand Final match to celebrate the success',\n",
       " 'The National Media has reported that India will host the final of IPL 2K5 match at Narendra Modi Stadium in Ahmedabad on June',\n",
       " 'The news that the event will be dedicated to the heroes of the Indian Army was a big news story this morning.',\n",
       " 'Subscribe to the full video. Thank you very much.']"
      ]
     },
     "execution_count": 23,
     "metadata": {},
     "output_type": "execute_result"
    }
   ],
   "source": [
    "english_translation"
   ]
  }
 ],
 "metadata": {
  "kernelspec": {
   "display_name": "temo",
   "language": "python",
   "name": "python3"
  },
  "language_info": {
   "codemirror_mode": {
    "name": "ipython",
    "version": 3
   },
   "file_extension": ".py",
   "mimetype": "text/x-python",
   "name": "python",
   "nbconvert_exporter": "python",
   "pygments_lexer": "ipython3",
   "version": "3.10.16"
  }
 },
 "nbformat": 4,
 "nbformat_minor": 5
}
